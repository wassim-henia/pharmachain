{
 "cells": [
  {
   "cell_type": "markdown",
   "metadata": {},
   "source": [
    "# Pharma Sales Time Series Analysis\n",
    "\n",
    "## Getting Started"
   ]
  },
  {
   "cell_type": "code",
   "execution_count": null,
   "metadata": {
    "_cell_guid": "b1076dfc-b9ad-4769-8c92-a6c4dae69d19",
    "_uuid": "8f2839f25d086af736a60e9eeb907d3b93b6e0e5"
   },
   "outputs": [],
   "source": [
    "import numpy as np \n",
    "import pandas as pd\n",
    "import matplotlib.pyplot as plt\n",
    "import seaborn as sns\n",
    "sns.set()\n",
    "import os"
   ]
  },
  {
   "cell_type": "markdown",
   "metadata": {},
   "source": [
    "\n",
    "## Reading the Data"
   ]
  },
  {
   "cell_type": "code",
   "execution_count": null,
   "metadata": {
    "_cell_guid": "79c7e3d0-c299-4dcb-8224-4455121ee9b0",
    "_uuid": "d629ff2d2480ee46fbb7e2d37f6b5fab8052498a"
   },
   "outputs": [],
   "source": [
    "#reading the data\n",
    "hourly = pd.read_csv('saleshourly.csv')\n",
    "daily = pd.read_csv('salesdaily.csv')\n",
    "weekly = pd.read_csv('salesweekly.csv')\n",
    "monthly = pd.read_csv('salesmonthly.csv')"
   ]
  },
  {
   "cell_type": "markdown",
   "metadata": {},
   "source": [
    "## Analysing Data Stucture"
   ]
  },
  {
   "cell_type": "code",
   "execution_count": null,
   "metadata": {},
   "outputs": [],
   "source": [
    "#function to print shape of a given data\n",
    "def print_shape(data):\n",
    "    print('Rows : ',data.shape[0])\n",
    "    print('Columns : ',data.shape[1])"
   ]
  },
  {
   "cell_type": "code",
   "execution_count": null,
   "metadata": {},
   "outputs": [],
   "source": [
    "print_shape(hourly)\n",
    "print_shape(daily)\n",
    "print_shape(weekly)\n",
    "print_shape(monthly)"
   ]
  },
  {
   "cell_type": "markdown",
   "metadata": {},
   "source": [
    "From the shape of monthly dataframe, we see that the data is of 70 months."
   ]
  },
  {
   "cell_type": "code",
   "execution_count": null,
   "metadata": {},
   "outputs": [],
   "source": [
    "hourly.head(2)"
   ]
  },
  {
   "cell_type": "code",
   "execution_count": null,
   "metadata": {},
   "outputs": [],
   "source": [
    "daily.head(2)"
   ]
  },
  {
   "cell_type": "code",
   "execution_count": null,
   "metadata": {},
   "outputs": [],
   "source": [
    "weekly.head(2)"
   ]
  },
  {
   "cell_type": "code",
   "execution_count": null,
   "metadata": {},
   "outputs": [],
   "source": [
    "monthly.head(2)"
   ]
  },
  {
   "cell_type": "markdown",
   "metadata": {},
   "source": [
    "Notice that the format of datum column is different in hourly and monthly data and same in daily and weekly data."
   ]
  },
  {
   "cell_type": "code",
   "execution_count": null,
   "metadata": {},
   "outputs": [],
   "source": [
    "#copy the data\n",
    "hourly_original = hourly.copy()\n",
    "daily_original = daily.copy()\n",
    "weekly_original = weekly.copy()\n",
    "monthly_original = monthly.copy()"
   ]
  },
  {
   "cell_type": "markdown",
   "metadata": {},
   "source": [
    "Let us now convert data type of datum column from object to datetime"
   ]
  },
  {
   "cell_type": "code",
   "execution_count": null,
   "metadata": {},
   "outputs": [],
   "source": [
    "#converting datatype of dates from object to Datetime\n",
    "monthly['datum'] = pd.to_datetime(monthly['datum'], format= '%Y-%m-%d')\n",
    "weekly['datum'] = pd.to_datetime(weekly['datum'], format= '%m/%d/%Y')\n",
    "daily['datum'] = pd.to_datetime(daily['datum'], format= '%m/%d/%Y')\n",
    "hourly['datum'] = pd.to_datetime(hourly['datum'], format= '%m/%d/%Y %H:%M')"
   ]
  },
  {
   "cell_type": "markdown",
   "metadata": {},
   "source": [
    "# Analysing Monthly Series\n",
    "\n",
    "Firstly, let us analyse the monthly data and see what inferences can we draw from this data."
   ]
  },
  {
   "cell_type": "markdown",
   "metadata": {},
   "source": [
    "Seperate year, month and day from the datum column"
   ]
  },
  {
   "cell_type": "code",
   "execution_count": null,
   "metadata": {},
   "outputs": [],
   "source": [
    "#extracting year from dates\n",
    "monthly['year'] = monthly['datum'].dt.year"
   ]
  },
  {
   "cell_type": "code",
   "execution_count": null,
   "metadata": {},
   "outputs": [],
   "source": [
    "#extracting month from dates\n",
    "monthly['month'] = monthly['datum'].dt.month"
   ]
  },
  {
   "cell_type": "code",
   "execution_count": null,
   "metadata": {},
   "outputs": [],
   "source": [
    "#extracting day from dates\n",
    "monthly['day'] = monthly['datum'].dt.day"
   ]
  },
  {
   "cell_type": "code",
   "execution_count": null,
   "metadata": {},
   "outputs": [],
   "source": [
    "#set index equal to the dates which will help us in visualising the time series\n",
    "monthly.set_index(monthly['datum'], inplace= True)"
   ]
  },
  {
   "cell_type": "code",
   "execution_count": null,
   "metadata": {},
   "outputs": [],
   "source": [
    "monthly.head(2)"
   ]
  },
  {
   "cell_type": "code",
   "execution_count": null,
   "metadata": {},
   "outputs": [],
   "source": [
    "#define a function to plot yearly sales of every category of drug.\n",
    "def plot_yearly_sales(column):\n",
    "    monthly.groupby('year')[column].mean().plot.bar()#calculating yearly sales using groupby\n",
    "    plt.title(f'Yearly sales of {column}')\n",
    "    plt.xlabel('Year')\n",
    "    plt.ylabel('Sales')\n",
    "    plt.show()"
   ]
  },
  {
   "cell_type": "code",
   "execution_count": null,
   "metadata": {},
   "outputs": [],
   "source": [
    "#plotting yearly sales of each drug category\n",
    "for i in monthly.columns[1:9]:#drug categories are from 1 to 8 index\n",
    "    plot_yearly_sales(i) "
   ]
  },
  {
   "cell_type": "markdown",
   "metadata": {},
   "source": [
    "Analysing the above yearly sales graphs, we can conclude that:\n",
    "* The year 2017 has seen a major dip in the sales of drugs. This need digging. Lets do it"
   ]
  },
  {
   "cell_type": "code",
   "execution_count": null,
   "metadata": {},
   "outputs": [],
   "source": [
    "#lets see some statistics related to the data\n",
    "monthly.describe()"
   ]
  },
  {
   "cell_type": "markdown",
   "metadata": {},
   "source": [
    "Here, we see that the minimum value of sale of majority of drugs is 0 while that of drug N05B is 1. This is the reason why year 2017 has lowest sales."
   ]
  },
  {
   "cell_type": "code",
   "execution_count": null,
   "metadata": {},
   "outputs": [],
   "source": [
    "#plot line curve to analyse monthly sales\n",
    "def plot_line_curve(series):\n",
    "    plt.figure(figsize= (15,5))\n",
    "    series.plot(kind= 'line')\n",
    "    plt.title(f'Monthly Sales of Drug : {col}')\n",
    "    plt.show()"
   ]
  },
  {
   "cell_type": "code",
   "execution_count": null,
   "metadata": {},
   "outputs": [],
   "source": [
    "for col in monthly.columns[1:9]:\n",
    "    plot_line_curve(monthly[col])"
   ]
  },
  {
   "cell_type": "markdown",
   "metadata": {},
   "source": [
    "From the above graphs, we can infer that the sales for first month of 2017 is 0. This means that we have missing values for the first month.\n",
    "Let us analyse this from daily data.<br>\n",
    "But first let us preprocess daily data also."
   ]
  },
  {
   "cell_type": "code",
   "execution_count": null,
   "metadata": {},
   "outputs": [],
   "source": [
    "daily.columns"
   ]
  },
  {
   "cell_type": "code",
   "execution_count": null,
   "metadata": {},
   "outputs": [],
   "source": [
    "#extracting days from date\n",
    "daily['day'] = daily['datum'].dt.day"
   ]
  },
  {
   "cell_type": "code",
   "execution_count": null,
   "metadata": {},
   "outputs": [],
   "source": [
    "#set dates as index\n",
    "daily.set_index(daily['datum'], inplace= True)"
   ]
  },
  {
   "cell_type": "code",
   "execution_count": null,
   "metadata": {},
   "outputs": [],
   "source": [
    "#looking at sales data from 1st Jan, 2017 to 1st Feb, 2019\n",
    "for col in daily.columns[1:9]:\n",
    "    plot_line_curve(daily[col].loc['1/1/2017':'2/1/2017'])"
   ]
  },
  {
   "cell_type": "markdown",
   "metadata": {},
   "source": [
    "From these graphs, we can say say that the data is **not missing**. Instead, the sales of drugs on 2nd January, 2017 is low rather there is no sale on 2nd Feb."
   ]
  },
  {
   "cell_type": "markdown",
   "metadata": {},
   "source": [
    "## Analysing total sales of drug"
   ]
  },
  {
   "cell_type": "code",
   "execution_count": null,
   "metadata": {},
   "outputs": [],
   "source": [
    "#calculating total sales\n",
    "monthly['total_sales'] = monthly['M01AB']\n",
    "for cols in monthly.columns[2:9]:\n",
    "    monthly['total_sales'] = monthly['total_sales']+monthly[cols]"
   ]
  },
  {
   "cell_type": "code",
   "execution_count": null,
   "metadata": {},
   "outputs": [],
   "source": [
    "monthly.groupby('month')['total_sales'].plot.bar(rot=45)\n",
    "plt.xlabel('Date Time')\n",
    "plt.ylabel('Total Sales')\n",
    "plt.title('Total Sales of Drugs')\n",
    "plt.show()"
   ]
  },
  {
   "cell_type": "markdown",
   "metadata": {},
   "source": [
    "From above diagram we can hence validate that the sales of drugs have been lowest in the year 2017."
   ]
  },
  {
   "cell_type": "markdown",
   "metadata": {},
   "source": [
    "## Training "
   ]
  },
  {
   "cell_type": "markdown",
   "metadata": {},
   "source": [
    "### Training for one type of drug"
   ]
  },
  {
   "cell_type": "code",
   "execution_count": null,
   "metadata": {},
   "outputs": [],
   "source": [
    "split_date = '2018-06-01'\n",
    "train = daily.loc[daily.index < split_date].copy()\n",
    "test = daily.loc[daily.index >= split_date].copy()"
   ]
  },
  {
   "cell_type": "code",
   "execution_count": null,
   "metadata": {},
   "outputs": [],
   "source": [
    "# Plot train and test so you can see where we have split\n",
    "test[['M01AB']] \\\n",
    "    .rename(columns={'M01AB': 'TEST SET'}) \\\n",
    "    .join(train[['M01AB']].rename(columns={'M01AB': 'TRAINING SET'}),\n",
    "          how='outer') \\\n",
    "    .plot(figsize=(15,5), title='PJM East', style='.')\n",
    "plt.show()"
   ]
  },
  {
   "cell_type": "code",
   "execution_count": null,
   "metadata": {},
   "outputs": [],
   "source": [
    "M01AB_train = train[['M01AB']].reset_index() \\\n",
    "    .rename(columns={'datum':'ds',\n",
    "                     'M01AB':'y'})\n",
    "M01AB_test = test[['M01AB']].reset_index() \\\n",
    "    .rename(columns={'datum':'ds',\n",
    "                     'M01AB':'y'})"
   ]
  },
  {
   "cell_type": "code",
   "execution_count": null,
   "metadata": {},
   "outputs": [],
   "source": [
    "from prophet import Prophet\n",
    "\n",
    "model = Prophet()\n",
    "model.fit(M01AB_train)"
   ]
  },
  {
   "cell_type": "code",
   "execution_count": null,
   "metadata": {},
   "outputs": [],
   "source": [
    "import datetime\n",
    "\n",
    "\n",
    "datetime.datetime.now().date()"
   ]
  },
  {
   "cell_type": "code",
   "execution_count": null,
   "metadata": {},
   "outputs": [],
   "source": [
    "forcast = model.predict(df=M01AB_test)"
   ]
  },
  {
   "cell_type": "code",
   "execution_count": null,
   "metadata": {},
   "outputs": [],
   "source": [
    "from prophet.diagnostics import cross_validation, performance_metrics\n",
    "df_cv = cross_validation(model, horizon='90 days')\n",
    "df_p = performance_metrics(df_cv)\n",
    "df_p.head(5)"
   ]
  },
  {
   "cell_type": "markdown",
   "metadata": {},
   "source": [
    "### Training models for all drugs"
   ]
  },
  {
   "cell_type": "code",
   "execution_count": null,
   "metadata": {},
   "outputs": [],
   "source": [
    "daily"
   ]
  },
  {
   "cell_type": "code",
   "execution_count": null,
   "metadata": {},
   "outputs": [],
   "source": [
    "import pickle\n",
    "drugs = [\"M01AB\",\"M01AE\",\"N02BA\",\"N02BE\",\"N05B\",\"N05C\",\"R03\",\"R06\"]\n",
    "for d in drugs:\n",
    "    df = daily[[d]].reset_index() \\\n",
    "    .rename(columns={'datum':'ds',\n",
    "                     d:'y'})\n",
    "    model = Prophet()\n",
    "    model.fit(df)\n",
    "    with open(f'{d}.pckl', 'wb') as fout:\n",
    "        pickle.dump(model, fout)"
   ]
  },
  {
   "cell_type": "code",
   "execution_count": null,
   "metadata": {},
   "outputs": [],
   "source": []
  }
 ],
 "metadata": {
  "kernelspec": {
   "display_name": "Python 3.9.10 ('ehealth_hack')",
   "language": "python",
   "name": "python3"
  },
  "language_info": {
   "codemirror_mode": {
    "name": "ipython",
    "version": 3
   },
   "file_extension": ".py",
   "mimetype": "text/x-python",
   "name": "python",
   "nbconvert_exporter": "python",
   "pygments_lexer": "ipython3",
   "version": "3.9.10"
  },
  "vscode": {
   "interpreter": {
    "hash": "24f1a5c1e574ebc85a696f6a7ae4f699c2960eb4a3c4855330ac5df7fbd5fbb3"
   }
  }
 },
 "nbformat": 4,
 "nbformat_minor": 1
}
